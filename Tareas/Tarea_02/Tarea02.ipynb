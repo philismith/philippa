{
  "nbformat": 4,
  "nbformat_minor": 0,
  "metadata": {
    "colab": {
      "provenance": []
    },
    "kernelspec": {
      "name": "python3",
      "display_name": "Python 3"
    },
    "language_info": {
      "name": "python"
    }
  },
  "cells": [
    {
      "cell_type": "code",
      "source": [
        "#Problema 1\n",
        "\n",
        "#Acá se recorre un rango desde -100 al 200. Se pone hasta el 201 porque, de esta manera, el programa lo tomará hasta el 200 como es lo que se pide.\n",
        "for lista in range(-100, 201):\n",
        "#Acá se escribe imprimir para imprimir la variable que apodamos \"lista\" la cual tiene asignado todos los números que componen el rango.\n",
        "  print(lista)"
      ],
      "metadata": {
        "id": "3a_1AJrV61ZR"
      },
      "execution_count": null,
      "outputs": []
    },
    {
      "cell_type": "code",
      "source": [
        "#Problema 2\n",
        "\n",
        "#Acá se recorre el rango entre los enteros -100 a 200\n",
        "for numero in range(-100,201):\n",
        "  #Si el número es divisible por 6 y su resto es 0, se debe imprimir.\n",
        "  if numero % 6 == 0:\n",
        "   print (\"Este número cumple la condición numero: \" + str(numero))"
      ],
      "metadata": {
        "id": "uBSYj57REukC"
      },
      "execution_count": null,
      "outputs": []
    },
    {
      "cell_type": "code",
      "source": [
        "#Problema 3\n",
        "\n",
        "#Primer numero que quiero leer\n",
        "numeroi = int(input(\"Mi primer numero: \"))\n",
        "\n",
        "#Segundo numero que quiero leer\n",
        "numero2 = int(input(\"Mi segundo numero: \"))\n",
        "#Acá se suman los 2 números, i y 2.\n",
        "suma = numeroi + numero2\n",
        "#Si es que la suma es menor a 100 se imprime \"es menor a 100\"\n",
        "if(suma < 100):\n",
        "  print(\"Es menor a 100\")\n",
        "#Si es que la suma es mayor a 200 y menor a 250, se debe imprimir lo que está entre comillas y paréntesis.\n",
        "elif(suma > 200 and suma < 250):\n",
        "  print(\"Es mayor a 200 y menor a 250\")\n",
        "#Si no se cumple ninguna de las dos condiciones, se debe imprimir \"Es mayor a 250\".\n",
        "else:\n",
        "  print(\"Es mayor a 250\")"
      ],
      "metadata": {
        "id": "ZuBOLRWOMqdT"
      },
      "execution_count": null,
      "outputs": []
    },
    {
      "cell_type": "code",
      "source": [
        "#edad INT , gusta_musica_urbana TRUE/FALSE\n",
        "#Inicio\n",
        "#Leer edad y gusta_musica_urbana\n",
        "#Si (edad > 18 y gusta_musica_urbana == True) entonces\n",
        " #   resultado = \"Eres mayor de edad y te gusta la música urbana\"\n",
        "#Si no\n",
        " #   resultado = \"No eres mayor de edad o no te gusta la música urbana\"\n",
        "#Si fin\n",
        "\n",
        "#Acá se asigna lo que el receptor va a leer.\n",
        "edad = int(input(\"¿Qué edad tienes?\"))\n",
        "#Asigno de nuevo y cambio el True por 0 y False por 1.\n",
        "musica_urbana = int(input(\"¿Te gusta la música urbana?, Sí=0 y No=1\"))\n",
        "#Condicional que dependederá de la respuesta del receptor y se imprimar distintas respuestas en cada caso.\n",
        "if (edad>18 and musica_urbana == 0):\n",
        "  print(\"Eres mayor de edad y te gusta la música urbana\")\n",
        "else:\n",
        "  print(\"No eres mayor de edad o no te gusta la música urbana\")\n",
        "\n"
      ],
      "metadata": {
        "id": "FJ3KvG5CKjUu"
      },
      "execution_count": null,
      "outputs": []
    }
  ]
}